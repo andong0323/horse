{
 "cells": [
  {
   "cell_type": "code",
   "execution_count": 1,
   "metadata": {},
   "outputs": [],
   "source": [
    "import xgboost as xgb\n",
    "from sklearn.model_selection import train_test_split\n",
    "from sklearn.metrics import mean_squared_error\n",
    "from sklearn.datasets import load_boston\n"
   ]
  },
  {
   "cell_type": "code",
   "execution_count": 6,
   "metadata": {},
   "outputs": [
    {
     "name": "stdout",
     "output_type": "stream",
     "text": [
      "Boston Housing: regression\n",
      "[0]\tvalidation_0-logloss:-796.549\n",
      "[99]\tvalidation_0-logloss:-796.549\n",
      "10.311799355463618\n"
     ]
    }
   ],
   "source": [
    "\n",
    "print(\"Boston Housing: regression\")\n",
    "boston = load_boston()\n",
    "y = boston['target']\n",
    "X = boston['data']\n",
    "\n",
    "#划分训练集和测试集, 以8:2的原则划分训练集和测试集\n",
    "X_train, X_test, y_train, y_test = train_test_split(X, y, test_size=0.2 ,random_state=666)\n",
    "xgb_model = xgb.XGBRegressor(max_depth = 3,\n",
    "                             learning_rate = 0.1,\n",
    "                             n_estimators = 100,\n",
    "                             objective = 'reg:linear',\n",
    "                             n_jobs = -1, )\n",
    "\n",
    "xgb_model.fit(X_train, y_train,\n",
    "              eval_set=[(X_train, y_train)], \n",
    "              eval_metric='logloss',\n",
    "              verbose=100)\n",
    "y_pred = xgb_model.predict(X_test)\n",
    "print(mean_squared_error(y_test, y_pred))"
   ]
  },
  {
   "cell_type": "code",
   "execution_count": null,
   "metadata": {},
   "outputs": [],
   "source": []
  }
 ],
 "metadata": {
  "kernelspec": {
   "display_name": "Python 3",
   "language": "python",
   "name": "python3"
  },
  "language_info": {
   "codemirror_mode": {
    "name": "ipython",
    "version": 3
   },
   "file_extension": ".py",
   "mimetype": "text/x-python",
   "name": "python",
   "nbconvert_exporter": "python",
   "pygments_lexer": "ipython3",
   "version": "3.6.8"
  }
 },
 "nbformat": 4,
 "nbformat_minor": 2
}
